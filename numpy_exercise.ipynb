{
 "cells": [
  {
   "cell_type": "code",
   "execution_count": 1,
   "metadata": {},
   "outputs": [],
   "source": [
    "import numpy as np"
   ]
  },
  {
   "cell_type": "markdown",
   "metadata": {},
   "source": [
    "Question 1. Write a function so that the columns of the output matrix are powers of the input\n",
    "vector.The order of the powers is determined by the increasing boolean argument. Specifically, when\n",
    "increasing is False, the i-th output column is the input vector raised element-wise to the power\n",
    "of N - i - 1."
   ]
  },
  {
   "cell_type": "code",
   "execution_count": 25,
   "metadata": {},
   "outputs": [],
   "source": [
    "def create_output_matrix(inputvec,increasing=False):\n",
    "    \"\"\"\n",
    "    inputvec is an input vector\n",
    "    increasing is a boolean flag ,if True, value of power increases\n",
    "                                if False, value of power decreases\n",
    "    output : function returns the output matrix of powers of input vector \n",
    "    \"\"\"\n",
    "    print(\"Increasing Flag: \", increasing)\n",
    "    N=len(inputvec)   #number of elements in the input vector\n",
    "    if(not increasing):\n",
    "        out_matrix=np.array([[x**(N-i-1) for i in range(N)] for x in inputvec])\n",
    "    else:\n",
    "        out_matrix=np.array([[x**i for i in range(N)] for x in inputvec])\n",
    "        \n",
    "    return out_matrix\n",
    "        "
   ]
  },
  {
   "cell_type": "code",
   "execution_count": 28,
   "metadata": {},
   "outputs": [
    {
     "name": "stdout",
     "output_type": "stream",
     "text": [
      "Increasing Flag:  True\n",
      "Input vector: \t [1 2 3 4]\n",
      "\n",
      " Output Matrix as powers of input vector:: \n",
      "\n",
      " [[ 1  1  1  1]\n",
      " [ 1  2  4  8]\n",
      " [ 1  3  9 27]\n",
      " [ 1  4 16 64]]\n"
     ]
    }
   ],
   "source": [
    "inputvector=np.array([1,2,3,4])\n",
    "\n",
    "output_matrix=create_output_matrix(inputvec=inputvector,increasing=True)\n",
    "print(\"Input vector: \\t\", np.array([1,2,3,4]))\n",
    "print(\"\\n Output Matrix as powers of input vector:: \\n\\n\",output_matrix)"
   ]
  },
  {
   "cell_type": "code",
   "execution_count": 29,
   "metadata": {},
   "outputs": [
    {
     "name": "stdout",
     "output_type": "stream",
     "text": [
      "Increasing Flag:  False\n",
      "Input vector: \t [1 2 3 4]\n",
      "\n",
      " Output Matrix as powers of input vector:: \n",
      "\n",
      " [[ 1  1  1  1]\n",
      " [ 8  4  2  1]\n",
      " [27  9  3  1]\n",
      " [64 16  4  1]]\n"
     ]
    }
   ],
   "source": [
    "inputvector=np.array([1,2,3,4])\n",
    "\n",
    "output_matrix=create_output_matrix(inputvec=inputvector,increasing=False)\n",
    "print(\"Input vector: \\t\", np.array([1,2,3,4]))\n",
    "print(\"\\n Output Matrix as powers of input vector:: \\n\\n\",output_matrix)"
   ]
  },
  {
   "cell_type": "markdown",
   "metadata": {},
   "source": [
    "***************************************************\n",
    "Question 2. Write a function to find moving average in an array over a window:\n",
    "Test it over [3, 5, 7, 2, 8, 10, 11, 65, 72, 81, 99, 100, 150] and window of 3.\n",
    "The moving average sequence has n-k+1 elements."
   ]
  },
  {
   "cell_type": "code",
   "execution_count": 45,
   "metadata": {},
   "outputs": [],
   "source": [
    "def compute_moving_average(input,window_size):\n",
    "    \"\"\"\n",
    "    input is a sequence of numbers\n",
    "    window_size gives size of the window computing the average\n",
    "    output is the sequence of computed moving averages, has n-k+1 elements\n",
    "    \"\"\"\n",
    "    moving_average_out=[]   # intialize empty list for output\n",
    "    count=len(input)        #number of input elements\n",
    "    \n",
    "    for start in range(count):\n",
    "        end=window_size+start\n",
    "        window=input[start:end]\n",
    "        \n",
    "        if(len(window)==window_size):\n",
    "            mean_out=round(np.mean(window),1)\n",
    "            moving_average_out.append(mean_out)\n",
    "            \n",
    "    return moving_average_out\n",
    "            \n",
    "        \n",
    "    "
   ]
  },
  {
   "cell_type": "code",
   "execution_count": 47,
   "metadata": {},
   "outputs": [
    {
     "name": "stdout",
     "output_type": "stream",
     "text": [
      "Given input sequence with 13 elements: \n",
      " [  3   5   7   2   8  10  11  65  72  81  99 100 150]\n",
      "\n",
      " Window size:  3\n",
      "\n",
      "The Computed Moving Average sequence with 11 elements:  \n",
      " [5.0, 4.7, 5.7, 6.7, 9.7, 28.7, 49.3, 72.7, 84.0, 93.3, 116.3]\n"
     ]
    }
   ],
   "source": [
    "inputseq=np.array( [3, 5, 7, 2, 8, 10, 11, 65, 72, 81, 99, 100, 150])\n",
    "window_size=3\n",
    "outseq=compute_moving_average(inputseq,window_size)\n",
    "\n",
    "print(\"Given input sequence with {} elements: \\n {}\".format(len(input),input))\n",
    "print(\"\\n Window size: \", window_size)\n",
    "print(\"\\nThe Computed Moving Average sequence with {} elements:  \\n {}\".format(len(outseq), outseq))"
   ]
  },
  {
   "cell_type": "code",
   "execution_count": null,
   "metadata": {},
   "outputs": [],
   "source": []
  },
  {
   "cell_type": "code",
   "execution_count": null,
   "metadata": {},
   "outputs": [],
   "source": []
  }
 ],
 "metadata": {
  "kernelspec": {
   "display_name": "Python 3",
   "language": "python",
   "name": "python3"
  },
  "language_info": {
   "codemirror_mode": {
    "name": "ipython",
    "version": 3
   },
   "file_extension": ".py",
   "mimetype": "text/x-python",
   "name": "python",
   "nbconvert_exporter": "python",
   "pygments_lexer": "ipython3",
   "version": "3.7.4"
  }
 },
 "nbformat": 4,
 "nbformat_minor": 2
}
